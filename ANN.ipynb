{
 "cells": [
  {
   "cell_type": "code",
   "execution_count": 1,
   "metadata": {
    "id": "g4vvLxF7rECC"
   },
   "outputs": [],
   "source": [
    "import numpy as np\n",
    "x = np.array(([2,9],[1,5],[3,6]),dtype = float)\n",
    "y = np.array(([92],[86],[89]),dtype = float)\n",
    "\n",
    "x = x/np.amax(x,axis=0)\n",
    "y = y/100"
   ]
  },
  {
   "cell_type": "code",
   "execution_count": 2,
   "metadata": {
    "id": "QOb3X9b4rGO3"
   },
   "outputs": [],
   "source": [
    "#Varialble Initialization\n",
    "epoch = 5000\n",
    "lr = 0.1\n",
    "inputlayer_neurons = 2\n",
    "hiddenlayer_neurons = 3\n",
    "output_neurons = 1\n"
   ]
  },
  {
   "cell_type": "code",
   "execution_count": 3,
   "metadata": {
    "id": "8uWJTVrfrGRL"
   },
   "outputs": [],
   "source": [
    "# weight and bias Initialization\n",
    "\n",
    "wh = np.random.uniform(size=(inputlayer_neurons,hiddenlayer_neurons))\n",
    "bh = np.random.uniform(size=(1,hiddenlayer_neurons))\n",
    "wout = np.random.uniform(size=(hiddenlayer_neurons,output_neurons))\n",
    "bout = np.random.uniform(size=(1,output_neurons))"
   ]
  },
  {
   "cell_type": "code",
   "execution_count": 4,
   "metadata": {
    "id": "oxLz2xYnrGTi"
   },
   "outputs": [],
   "source": [
    "#sigmoid function\n",
    "\n",
    "def sigmoid(x):\n",
    "  return 1/(1+np.exp(-x))\n",
    "\n",
    "# Derivative of Sigmoid\n",
    "\n",
    "def der_sigmoid(x):\n",
    "  return x*(1-x)"
   ]
  },
  {
   "cell_type": "code",
   "execution_count": 5,
   "metadata": {
    "id": "RSXdD4wfrGV5"
   },
   "outputs": [],
   "source": [
    "# Draws a random range of numbers uniformly of dim x*y\n",
    "\n",
    "for i in range(epoch):\n",
    "\n",
    "  # forward propagation\n",
    "  hinp1 = np.dot(x,wh)\n",
    "  hinp = hinp1 + bh\n",
    "  hlayer_act = sigmoid(hinp)\n",
    "  outinp1 = np.dot(hlayer_act,wout)\n",
    "  outinp = outinp1 + bout\n",
    "  output = sigmoid(outinp)\n",
    "\n",
    "  # Backpropagation\n",
    "  EO = y - output\n",
    "  outgrad = der_sigmoid(output)\n",
    "  d_output = EO*outgrad\n",
    "  EH = d_output.dot(wout.T)"
   ]
  },
  {
   "cell_type": "code",
   "execution_count": 6,
   "metadata": {
    "colab": {
     "base_uri": "https://localhost:8080/"
    },
    "id": "tkRsTFmgrGYf",
    "outputId": "1cecd6a9-0264-4281-a56f-68ed8b6b22cf"
   },
   "outputs": [
    {
     "name": "stdout",
     "output_type": "stream",
     "text": [
      "Input: \n",
      "[[0.66666667 1.        ]\n",
      " [0.33333333 0.55555556]\n",
      " [1.         0.66666667]]\n",
      "Actual output: \n",
      "[[0.92]\n",
      " [0.86]\n",
      " [0.89]]\n",
      "Predicted Output: \n",
      " [[0.8174365 ]\n",
      " [0.80251235]\n",
      " [0.82199816]]\n"
     ]
    }
   ],
   "source": [
    "# how much hidden layer weights contributed to error\n",
    "\n",
    "hiddengrad = der_sigmoid(hlayer_act)\n",
    "d_hiddenlayer = EH*hiddengrad\n",
    "\n",
    "#dotproduct of nextlayererror and current layer op\n",
    "\n",
    "wout += hlayer_act.T.dot(d_output)*lr\n",
    "wh += x.T.dot(d_hiddenlayer)*lr\n",
    "\n",
    "print(\"Input: \\n\" + str(x))\n",
    "print(\"Actual output: \\n\" + str(y))\n",
    "print(\"Predicted Output: \\n\",output)"
   ]
  },
  {
   "cell_type": "code",
   "execution_count": null,
   "metadata": {},
   "outputs": [],
   "source": []
  }
 ],
 "metadata": {
  "colab": {
   "provenance": []
  },
  "kernelspec": {
   "display_name": "Python 3 (ipykernel)",
   "language": "python",
   "name": "python3"
  },
  "language_info": {
   "codemirror_mode": {
    "name": "ipython",
    "version": 3
   },
   "file_extension": ".py",
   "mimetype": "text/x-python",
   "name": "python",
   "nbconvert_exporter": "python",
   "pygments_lexer": "ipython3",
   "version": "3.11.4"
  }
 },
 "nbformat": 4,
 "nbformat_minor": 4
}
